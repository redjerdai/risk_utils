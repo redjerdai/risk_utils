{
 "cells": [
  {
   "cell_type": "code",
   "execution_count": 1,
   "metadata": {},
   "outputs": [],
   "source": [
    "#"
   ]
  },
  {
   "cell_type": "code",
   "execution_count": 3,
   "metadata": {},
   "outputs": [],
   "source": [
    "\"\"\"\n",
    "General class architecture:\n",
    "\n",
    "> We have a number of bench-portfolios\n",
    "> We have a number of compiled portfolios\n",
    "> We have their components\n",
    "> Risks are evaluated either for these portfolios themselves, either for them regarding the benchs\n",
    "\n",
    "So, let's go\n",
    "\"\"\"\n",
    "pass"
   ]
  },
  {
   "cell_type": "code",
   "execution_count": null,
   "metadata": {},
   "outputs": [],
   "source": [
    "# Here go the benchs"
   ]
  },
  {
   "cell_type": "code",
   "execution_count": 4,
   "metadata": {},
   "outputs": [],
   "source": [
    "import numpy\n",
    "from matplotlib import pyplot"
   ]
  },
  {
   "cell_type": "code",
   "execution_count": 27,
   "metadata": {},
   "outputs": [],
   "source": [
    "N = 10_000\n",
    "\n",
    "tt = numpy.array(numpy.arange(N))\n",
    "bench_00_incr = numpy.random.normal(loc=0.02, scale=0.11, size=(N,))\n",
    "bench_01_incr = numpy.random.beta(a=2, b=2, size=(N,)) - 0.5 + 0.02\n",
    "bench_00 = numpy.cumsum(bench_00_incr)\n",
    "bench_01 = numpy.cumsum(bench_01_incr)"
   ]
  },
  {
   "cell_type": "code",
   "execution_count": 28,
   "metadata": {},
   "outputs": [
    {
     "data": {
      "image/png": "[encoded data removed]",
      "text/plain": [
       "<Figure size 432x288 with 1 Axes>"
      ]
     },
     "metadata": {
      "needs_background": "light"
     },
     "output_type": "display_data"
    }
   ],
   "source": [
    "_ = pyplot.hist(bench_00_incr, bins=100)\n",
    "pyplot.show()"
   ]
  },
  {
   "cell_type": "code",
   "execution_count": 29,
   "metadata": {},
   "outputs": [
    {
     "data": {
      "image/png": "[encoded data removed]",
      "text/plain": [
       "<Figure size 432x288 with 1 Axes>"
      ]
     },
     "metadata": {
      "needs_background": "light"
     },
     "output_type": "display_data"
    }
   ],
   "source": [
    "_ = pyplot.hist(bench_01_incr, bins=100)\n",
    "pyplot.show()"
   ]
  },
  {
   "cell_type": "code",
   "execution_count": 30,
   "metadata": {},
   "outputs": [
    {
     "data": {
      "text/plain": [
       "[<matplotlib.lines.Line2D at 0x1c5d744ba90>,\n",
       " <matplotlib.lines.Line2D at 0x1c5d744bbe0>]"
      ]
     },
     "execution_count": 30,
     "metadata": {},
     "output_type": "execute_result"
    },
    {
     "data": {
      "image/png": "[encoded data removed]",
      "text/plain": [
       "<Figure size 432x288 with 1 Axes>"
      ]
     },
     "metadata": {
      "needs_background": "light"
     },
     "output_type": "display_data"
    }
   ],
   "source": [
    "pyplot.plot(tt, bench_00, 'black', tt, bench_01, 'brown')"
   ]
  },
  {
   "cell_type": "code",
   "execution_count": 31,
   "metadata": {},
   "outputs": [],
   "source": [
    "# Now some portfolios"
   ]
  },
  {
   "cell_type": "code",
   "execution_count": 32,
   "metadata": {},
   "outputs": [],
   "source": [
    "p00_c00 = numpy.random.normal(loc=0.03, scale=2.2, size=(N,))\n",
    "p00_c01 = numpy.random.normal(loc=0.035, scale=2.9, size=(N,))\n",
    "p00_c02 = numpy.random.normal(loc=0.01, scale=0.1, size=(N,))\n",
    "p00_c03 = numpy.random.normal(loc=0.09, scale=9.2, size=(N,))\n",
    "\n",
    "p01_c00 = numpy.random.normal(loc=0.028, scale=2.9, size=(N,))\n",
    "p01_c01 = numpy.random.normal(loc=0.031, scale=2.1, size=(N,))"
   ]
  },
  {
   "cell_type": "code",
   "execution_count": 33,
   "metadata": {},
   "outputs": [],
   "source": [
    "w00 = [0.2, 0.3, 0.1, 0.4]\n",
    "p00 = p00_c00 * w00[0] + p00_c01 * w00[1] + p00_c02 * w00[2] + p00_c03 * w00[3]\n",
    "\n",
    "w01 = [0.7, 0.3]\n",
    "p01 = p01_c00 * w01[0] + p01_c01 * w01[1]"
   ]
  },
  {
   "cell_type": "code",
   "execution_count": 34,
   "metadata": {},
   "outputs": [],
   "source": [
    "# And finally, apply the routine"
   ]
  },
  {
   "cell_type": "code",
   "execution_count": null,
   "metadata": {},
   "outputs": [],
   "source": [
    "def CAPM(portfolio, benchmark, model='OLS', check_pvals=False):\n",
    "    \n",
    "    if model == 'OLS':\n",
    "        \n",
    "        from sklearn.linear_model import LinearRegression as OLS\n",
    "        \n",
    "        model = OLS(n_jobs=-1, fit_intercept=True)\n",
    "        model.fit(X=portfolio.reshape(-1, 1), y=benchmark)\n",
    "        \n",
    "        if check_pvals:\n",
    "            \n",
    "            raise NotImplemented(\"Not yet!\")\n",
    "        \n",
    "        else:\n",
    "            \n",
    "            alpha, beta = model.intercept_, model.coef_[0]\n",
    "        \n",
    "    elif:\n",
    "        \n",
    "        raise NotImplemented(\"Not yet!\")\n",
    "    \n",
    "    return alpha, beta\n",
    "\n",
    "\n",
    "def SemiVariance(series):\n",
    "    \n",
    "    series_cut = series[series < series.mean()]\n",
    "    ratio = series_cut.var(ddof=1)\n",
    "    \n",
    "    return ratio\n",
    "\n",
    "\n",
    "def RatioTreynor(portfolio, benchmark, beta):\n",
    "    \n",
    "    ratio = (portfolio - benchmark).mean() / beta\n",
    "    \n",
    "    return ratio\n",
    "\n",
    "\n",
    "def RatioSortino(portfolio, benchmark):\n",
    "    \n",
    "    semi_deviation = numpy.sqrt(SemiVariance(series=benchmark))\n",
    "    ratio = (portfolio - benchmark).mean() / semi_deviation\n",
    "    \n",
    "    return ratio\n",
    "\n",
    "\n",
    "def RatioSharpe(portfolio, benchmark):\n",
    "    \n",
    "    ratio = (portfolio - benchmark).mean() / benchmark.std(ddof=1)\n",
    "    \n",
    "    return ratio\n",
    "\n"
   ]
  },
  {
   "cell_type": "code",
   "execution_count": null,
   "metadata": {},
   "outputs": [],
   "source": [
    "class RiskMachine:\n",
    "    \n",
    "    def __init__(self):\n",
    "        \n",
    "        self.benchs = []\n",
    "        self.benchs_names = []\n",
    "        self.portfolios = []\n",
    "        self.portfolios_names = []\n",
    "        \n",
    "        self.N = None\n",
    "        self.M = None\n",
    "        \n",
    "        self.ratioAlpha, self.ratioBeta = None, None\n",
    "        self.ratioTreynor = None\n",
    "        self.ratioSortino = None\n",
    "        self.ratioSharpe = None\n",
    "        self.ratioVaR = None\n",
    "        self.ratioCVaR = None\n",
    "        \n",
    "    def add_benchs(self, benchs):\n",
    "        \n",
    "        self.M = len(benchs)\n",
    "        self.benchs = self.benchs + benchs\n",
    "    \n",
    "    def add_portfolios(self, portfolios):\n",
    "        \n",
    "        self.N = len(benchs)\n",
    "        self.portfolios = self.portfolios + portfolios\n",
    "    \n",
    "    def compute_measures(self):\n",
    "        \n",
    "        self.ratioAlpha, self.ratioBeta = ...\n",
    "        self.ratioTreynor = RatioTreynor()\n",
    "        self.ratioSortino = RatioSortino()\n",
    "        self.ratioSharpe = RatioSharpe()\n",
    "        self.ratioVaR = RatioVaR()\n",
    "        self.ratioCVaR = RatioCVaR()\n",
    "        \n",
    "        self.ratioAlpha, self.ratioBeta = CAPM(portfolio=,benchmark=)\n",
    "        self.ratioTreynor = RatioTreynor()\n",
    "        self.ratioSortino = RatioSortino()\n",
    "        self.ratioSharpe = RatioSharpe()\n",
    "        self.ratioVaR = RatioVaR()\n",
    "        self.ratioCVaR = RatioCVaR()\n",
    "    \n",
    "    def plot(self):\n",
    "        \n",
    "        \n",
    "\n",
    "    def summary(self):\n",
    "        \n",
    "        self.compute_measures()\n",
    "        self.plot()\n"
   ]
  },
  {
   "cell_type": "code",
   "execution_count": null,
   "metadata": {},
   "outputs": [],
   "source": [
    "risk_machine = RiskMachine()\n",
    "risk_machine.add_benchs([bench_00, bench_01])\n",
    "risk_machine.add_portfolios([p00, p01])\n",
    "risk_machine.summary()"
   ]
  }
 ],
 "metadata": {
  "kernelspec": {
   "display_name": "Python 3",
   "language": "python",
   "name": "python3"
  },
  "language_info": {
   "codemirror_mode": {
    "name": "ipython",
    "version": 3
   },
   "file_extension": ".py",
   "mimetype": "text/x-python",
   "name": "python",
   "nbconvert_exporter": "python",
   "pygments_lexer": "ipython3",
   "version": "3.8.3"
  }
 },
 "nbformat": 4,
 "nbformat_minor": 4
}
